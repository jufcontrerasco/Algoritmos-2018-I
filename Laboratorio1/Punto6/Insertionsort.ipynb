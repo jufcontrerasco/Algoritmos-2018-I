{
 "cells": [
  {
   "cell_type": "code",
   "execution_count": 1,
   "metadata": {},
   "outputs": [
    {
     "name": "stdout",
     "output_type": "stream",
     "text": [
      "Cuantos numeros desea ordenar?: 5\n",
      "Digite un numero: 5\n",
      "Digite un numero: 6\n",
      "Digite un numero: 1\n",
      "Digite un numero: 9\n",
      "Digite un numero: 8\n",
      "[5, 6, 1, 9, 8]\n",
      "[5, 6, 1, 9, 8]\n",
      "[1, 5, 6, 9, 8]\n",
      "[1, 5, 6, 9, 8]\n",
      "[1, 5, 6, 8, 9]\n",
      "Lista  ordenada: [1, 5, 6, 8, 9]\n"
     ]
    }
   ],
   "source": [
    "data = int(input(\"Cuantos numeros desea ordenar?: \"))\n",
    "arreglo = []\n",
    "\n",
    "while data > 0:\n",
    "\tdato = int(input(\"Digite un numero: \"))\n",
    "\tarreglo.append(dato)\n",
    "\tdata = data-1\n",
    "print (arreglo[:])\n",
    "\n",
    "i = 1\n",
    "while i < len(arreglo):\n",
    "\tx = arreglo[i]\n",
    "\tj = i-1\n",
    "\twhile j >= 0 and arreglo[j] > x:\n",
    "\t\tarreglo[j+1] = arreglo[j]\n",
    "\t\tj = j-1\n",
    "\tarreglo[j+1] = x\n",
    "\ti = i+1\n",
    "\tprint (arreglo[:])\n",
    "\n",
    "print (\"Lista  ordenada: %s\" % arreglo)\n",
    "\n"
   ]
  },
  {
   "cell_type": "code",
   "execution_count": null,
   "metadata": {},
   "outputs": [],
   "source": []
  }
 ],
 "metadata": {
  "kernelspec": {
   "display_name": "Python 3",
   "language": "python",
   "name": "python3"
  },
  "language_info": {
   "codemirror_mode": {
    "name": "ipython",
    "version": 3
   },
   "file_extension": ".py",
   "mimetype": "text/x-python",
   "name": "python",
   "nbconvert_exporter": "python",
   "pygments_lexer": "ipython3",
   "version": "3.6.4"
  }
 },
 "nbformat": 4,
 "nbformat_minor": 2
}
